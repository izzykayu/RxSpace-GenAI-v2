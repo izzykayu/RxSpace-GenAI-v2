{
 "cells": [
  {
   "cell_type": "code",
   "execution_count": 3,
   "id": "dbc97115-5a66-4fc2-babb-d6d6e85e8997",
   "metadata": {},
   "outputs": [],
   "source": [
    "import openai\n",
    "import os"
   ]
  },
  {
   "cell_type": "code",
   "execution_count": 5,
   "id": "94a1b1f1-f46a-46db-b0b7-76e403807838",
   "metadata": {},
   "outputs": [],
   "source": [
    "from constants import APIKEY\n",
    "openai.api_key = APIKEY\n"
   ]
  },
  {
   "cell_type": "code",
   "execution_count": 6,
   "id": "ecedaa09-614e-4569-b215-ddd89258811b",
   "metadata": {},
   "outputs": [],
   "source": [
    "#function to classify sentiment based on user input using GPT-3.5 Turbo\n",
    "def gpt_classify_sentiment(prompt, emotions):\n",
    "    #system prompt providing instructions to the emotionally intelligent assistant\n",
    "    system_prompt = f'''You are an emotionally intelligent assistant.\n",
    "    classify the sentiment of the user's text with ONLY ONE OF THE\n",
    "    FOLLOWING EMOTIONS: {emotions}. After classifying the text, respond with the emotion only '''\n",
    "    #generating a response using the OpenAI Chat Completion API\n",
    "    response = openai.ChatCompletion.create(\n",
    "        model='gpt-3.5-turbo',\n",
    "        messages=[\n",
    "            {'role':'system', 'content': system_prompt},\n",
    "            {'role': 'user', 'content': prompt}\n",
    "        ],\n",
    "        max_tokens=20,\n",
    "        temperature=0\n",
    "    )\n",
    "    #extracting the content of the generated response\n",
    "    r = response['choices'][0].message.content\n",
    "    #handling the case when the sentiment classification is not available\n",
    "    if r == 'r':\n",
    "        r = 'N/A'\n",
    "    #returning the classified sentiment\n",
    "    return r\n"
   ]
  },
  {
   "cell_type": "code",
   "execution_count": 7,
   "id": "e55f0491-e89d-4c89-a53b-800d09c09e4e",
   "metadata": {},
   "outputs": [],
   "source": [
    "#classifying the sentiment of the user's text using GPT-3.5 Turbo model\n",
    "emotions = 'Positive, Negative'\n",
    "prompt = 'AI will take over the world.'"
   ]
  },
  {
   "cell_type": "code",
   "execution_count": 8,
   "id": "b93bc931-c0a2-4c5d-b6f6-94facfc6ee4b",
   "metadata": {},
   "outputs": [
    {
     "name": "stdout",
     "output_type": "stream",
     "text": [
      "Negative\n"
     ]
    }
   ],
   "source": [
    "print(gpt_classify_sentiment(prompt, emotions))"
   ]
  },
  {
   "cell_type": "code",
   "execution_count": null,
   "id": "bd9cfc3c-2406-4de2-8d1b-146389b3c4ac",
   "metadata": {},
   "outputs": [],
   "source": []
  }
 ],
 "metadata": {
  "kernelspec": {
   "display_name": "Python 3 (ipykernel)",
   "language": "python",
   "name": "python3"
  },
  "language_info": {
   "codemirror_mode": {
    "name": "ipython",
    "version": 3
   },
   "file_extension": ".py",
   "mimetype": "text/x-python",
   "name": "python",
   "nbconvert_exporter": "python",
   "pygments_lexer": "ipython3",
   "version": "3.9.17"
  }
 },
 "nbformat": 4,
 "nbformat_minor": 5
}
